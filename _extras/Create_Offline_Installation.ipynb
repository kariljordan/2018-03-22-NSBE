{
 "cells": [
  {
   "cell_type": "markdown",
   "metadata": {},
   "source": [
    "# Offline Setup\n",
    "\n",
    "This notebook will walk you through creating zip files that you can share via flash drive for people to do setup without an internet connection.  "
   ]
  },
  {
   "cell_type": "markdown",
   "metadata": {},
   "source": [
    "## Install Jekyll\n",
    "\n",
    "Jekyll is used to build the carpentries setup, first you'll need to have that setup and installed on your machine.\n",
    "\n",
    "As per the workshop template readme: \n",
    "\n",
    "If you want to set up Jekyll\n",
    "so that you can preview changes on your own machine before pushing them to GitHub,\n",
    "you must install the software described below.\n",
    "(Note: Julian Thilo has written instructions for\n",
    "[installing Jekyll on Windows][jekyll-windows].)\n",
    "\n",
    "1.  **Ruby**.\n",
    "    This is included with Linux and macOS;\n",
    "    the simplest option on Windows is to use [RubyInstaller][ruby-installer].\n",
    "    You can test your installation by running `ruby --version`.\n",
    "    For more information,\n",
    "    see [the Ruby installation guidelines][ruby-install-guide].\n",
    "\n",
    "2.  **[RubyGems][rubygems]**\n",
    "    (the package manager for Ruby).\n",
    "    You can test your installation by running `gem --version`.\n",
    "\n",
    "3.  **[Jekyll][jekyll]**.\n",
    "    You can install this by running `gem install jekyll`."
   ]
  },
  {
   "cell_type": "code",
   "execution_count": 2,
   "metadata": {},
   "outputs": [
    {
     "name": "stdout",
     "output_type": "stream",
     "text": [
      "ruby 2.3.0p0 (2015-12-25) [x86_64-linux-gnu]\n",
      "2.5.1\n"
     ]
    }
   ],
   "source": [
    "%%bash\n",
    "ruby --version\n",
    "gem --version"
   ]
  },
  {
   "cell_type": "code",
   "execution_count": 4,
   "metadata": {},
   "outputs": [
    {
     "name": "stderr",
     "output_type": "stream",
     "text": [
      "ERROR:  While executing gem ... (Gem::FilePermissionError)\n",
      "    You don't have write permissions for the /var/lib/gems/2.3.0 directory.\n"
     ]
    }
   ],
   "source": [
    "%%bash \n",
    "cd ..\n",
    "gem install jekyll"
   ]
  },
  {
   "cell_type": "markdown",
   "metadata": {},
   "source": [
    "If the above gives an error, you'll need to use sudo, and you should do that outside of the notebook on your regular terminal."
   ]
  },
  {
   "cell_type": "markdown",
   "metadata": {},
   "source": [
    "## Create offline version\n",
    "\n",
    "We will use a separate branch for the offline version.  In it we will need to change where we tell the learners to download the installers from.\n",
    "\n",
    "If you're runnng this for the first time in this workshop, add the `-b` option and then edit the index .md to direct people to the downloaded files.\n",
    "\n"
   ]
  },
  {
   "cell_type": "code",
   "execution_count": 23,
   "metadata": {},
   "outputs": [
    {
     "name": "stdout",
     "output_type": "stream",
     "text": [
      "M\tindex.md\n"
     ]
    },
    {
     "name": "stderr",
     "output_type": "stream",
     "text": [
      "Already on 'offline'\n"
     ]
    }
   ],
   "source": [
    "%%bash \n",
    "git checkout offline"
   ]
  },
  {
   "cell_type": "code",
   "execution_count": 17,
   "metadata": {},
   "outputs": [
    {
     "name": "stdout",
     "output_type": "stream",
     "text": [
      "Process is interrupted.\n"
     ]
    }
   ],
   "source": [
    "%%bash\n",
    "cd ..\n",
    "make serve"
   ]
  },
  {
   "cell_type": "markdown",
   "metadata": {},
   "source": [
    "Use the kernel menu and interrupt to stop the server, now we have a `_site/` folder that we can add things to"
   ]
  },
  {
   "cell_type": "code",
   "execution_count": 19,
   "metadata": {},
   "outputs": [
    {
     "name": "stdout",
     "output_type": "stream",
     "text": [
      "about\n",
      "assets\n",
      "AUTHORS\n",
      "CITATION\n",
      "code\n",
      "CONDUCT.html\n",
      "CONTRIBUTING.md\n",
      "Create%20Offline%20Installation.ipynb\n",
      "customization\n",
      "data\n",
      "design\n",
      "faq\n",
      "favicon-dc.ico\n",
      "favicon-lc.ico\n",
      "favicon-swc.ico\n",
      "fig\n",
      "files\n",
      "index.html\n",
      "LICENSE.html\n",
      "README.md\n",
      "requirements.txt\n",
      "setup\n"
     ]
    }
   ],
   "source": [
    "%%bash\n",
    "cd ../\n",
    "ls"
   ]
  },
  {
   "cell_type": "markdown",
   "metadata": {},
   "source": [
    "# Download files\n",
    "\n",
    "These downloads will each take some time. "
   ]
  },
  {
   "cell_type": "code",
   "execution_count": 27,
   "metadata": {},
   "outputs": [
    {
     "name": "stdout",
     "output_type": "stream",
     "text": [
      "etherpad.txt\n",
      "nsbe.zip\n",
      "python-ecology-files-nsbe.zip\n"
     ]
    }
   ],
   "source": [
    "%%bash\n",
    "cd ../_site/files\n",
    "ls"
   ]
  },
  {
   "cell_type": "code",
   "execution_count": null,
   "metadata": {},
   "outputs": [],
   "source": [
    "%%bash\n",
    "wget -P ../_site/files/ https://repo.continuum.io/archive/Anaconda3-5.1.0-Windows-x86_64.exe \n",
    "wget -P ../_site/files/ https://repo.continuum.io/archive/Anaconda3-5.1.0-Windows-x86.exe\n",
    "wget -P ../_site/files/ https://repo.continuum.io/archive/Anaconda3-5.1.0-MacOSX-x86_64.pkg\n",
    "wget -P ../_site/files/ https://repo.continuum.io/archive/Anaconda3-5.1.0-Linux-x86_64.sh"
   ]
  },
  {
   "cell_type": "code",
   "execution_count": 26,
   "metadata": {},
   "outputs": [
    {
     "name": "stderr",
     "output_type": "stream",
     "text": [
      "--2018-03-09 09:42:31--  https://github.com/brownsarahm/python-ecology-files/archive/nsbe.zip\n",
      "Resolving github.com (github.com)... 192.30.255.112, 192.30.255.113\n",
      "Connecting to github.com (github.com)|192.30.255.112|:443... connected.\n",
      "HTTP request sent, awaiting response... 302 Found\n",
      "Location: https://codeload.github.com/brownsarahm/python-ecology-files/zip/nsbe [following]\n",
      "--2018-03-09 09:42:31--  https://codeload.github.com/brownsarahm/python-ecology-files/zip/nsbe\n",
      "Resolving codeload.github.com (codeload.github.com)... 192.30.255.121, 192.30.255.120\n",
      "Connecting to codeload.github.com (codeload.github.com)|192.30.255.121|:443... connected.\n",
      "HTTP request sent, awaiting response... 200 OK\n",
      "Length: 326972 (319K) [application/zip]\n",
      "Saving to: ‘../_site/files/python-ecology-files-nsbe.zip/nsbe.zip’\n",
      "\n",
      "     0K .......... .......... .......... .......... .......... 15%  465K 1s\n",
      "    50K .......... .......... .......... .......... .......... 31% 2.04M 0s\n",
      "   100K .......... .......... .......... .......... .......... 46% 48.7M 0s\n",
      "   150K .......... .......... .......... .......... .......... 62%  697K 0s\n",
      "   200K .......... .......... .......... .......... .......... 78% 10.2M 0s\n",
      "   250K .......... .......... .......... .......... .......... 93% 1.89M 0s\n",
      "   300K .......... .........                                  100% 55.6M=0.2s\n",
      "\n",
      "2018-03-09 09:42:32 (1.33 MB/s) - ‘../_site/files/python-ecology-files-nsbe.zip/nsbe.zip’ saved [326972/326972]\n",
      "\n"
     ]
    }
   ],
   "source": [
    "%%bash\n",
    "wget -P ../_site/files/python-ecology-files-nsbe.zip https://github.com/brownsarahm/python-ecology-files/archive/nsbe.zip "
   ]
  },
  {
   "cell_type": "code",
   "execution_count": null,
   "metadata": {},
   "outputs": [],
   "source": [
    "%%bash\n",
    "cd ../_site/files\n",
    "ls"
   ]
  },
  {
   "cell_type": "markdown",
   "metadata": {},
   "source": [
    "# Package\n",
    "\n",
    "Now, make the site again, test it out served and statcially.  "
   ]
  },
  {
   "cell_type": "code",
   "execution_count": null,
   "metadata": {},
   "outputs": [],
   "source": [
    "%%bash\n",
    "cd .. make serve"
   ]
  },
  {
   "cell_type": "markdown",
   "metadata": {},
   "source": [
    "point a new browser tab to :  and check the links.\n",
    "\n",
    "THen use the Kernel > Interrupt to end that and open this link in a new tab [static site](../_site/index.html)"
   ]
  },
  {
   "cell_type": "markdown",
   "metadata": {},
   "source": [
    "# Distribution\n",
    "\n",
    "Copy the _site folder to a flash drive and rename it to the workshop name.  Direct people to go to index.html and follow the setup instructions from there. If the drive needs to be shared, people can open, download the files they need and then keep the page open but unplug the drive to follow the rest of the ins"
   ]
  }
 ],
 "metadata": {
  "kernelspec": {
   "display_name": "Python 3",
   "language": "python",
   "name": "python3"
  },
  "language_info": {
   "codemirror_mode": {
    "name": "ipython",
    "version": 3
   },
   "file_extension": ".py",
   "mimetype": "text/x-python",
   "name": "python",
   "nbconvert_exporter": "python",
   "pygments_lexer": "ipython3",
   "version": "3.6.4"
  }
 },
 "nbformat": 4,
 "nbformat_minor": 2
}
